{
 "cells": [
  {
   "cell_type": "markdown",
   "metadata": {},
   "source": [
    "## Data Science Projekt - Fruitdata"
   ]
  },
  {
   "cell_type": "markdown",
   "metadata": {},
   "source": [
    "##### In dieser Analyse wird die Excel-Datei 'fruit_data' verwendet, die Daten zu drei verschiedenen Fruchtsorten enthält. \n",
    "##### Die Forschungsfrage lautet: Wie kann ein Klassifikator entwickelt werden, der zwischen Bananen, Trauben und Äpfeln unterscheiden kann? \n",
    "##### Das Ziel des Projekts ist es, einen solchen Klassifikator zu entwickeln. Dazu werden zwei maschinelle Lernmodelle eingesetzt: die logistische Regression und der Entscheidungsbaum."
   ]
  },
  {
   "cell_type": "markdown",
   "metadata": {},
   "source": [
    "### Imports"
   ]
  },
  {
   "cell_type": "code",
   "execution_count": 1,
   "metadata": {},
   "outputs": [],
   "source": [
    "# Importierung der Bibliotheken\n",
    "import pandas as pd\n",
    "import matplotlib.pyplot as plt\n",
    "from sklearn.model_selection import train_test_split\n",
    "from sklearn.preprocessing import StandardScaler\n",
    "from sklearn.linear_model import LogisticRegression\n",
    "from sklearn.metrics import accuracy_score, f1_score, roc_auc_score\n",
    "from sklearn.preprocessing import label_binarize\n",
    "from sklearn.model_selection import GridSearchCV\n",
    "from sklearn.tree import DecisionTreeClassifier"
   ]
  },
  {
   "cell_type": "markdown",
   "metadata": {},
   "source": [
    "### Einlesen der Excel-Datei"
   ]
  },
  {
   "cell_type": "code",
   "execution_count": 2,
   "metadata": {},
   "outputs": [
    {
     "name": "stdout",
     "output_type": "stream",
     "text": [
      "   Unnamed: 0 fruit_type         color    size     weight\n",
      "0           0      grape        Yellow    Tiny   8.303385\n",
      "1           1      apple          Pink  Largee  80.976370\n",
      "2           2     banana   Pale Yellow   Large  74.615192\n",
      "3           3      grape           Red    Tiny   6.924070\n",
      "4           4     banana  Creamy White  Largee  82.002542\n",
      "5           5     banana         Green   Large  89.719116\n",
      "6           6      apple         Green  Largee  72.036243\n",
      "7           7      grape         Green   Small   5.371310\n",
      "8           8      apple          Pink  Largee  87.272178\n",
      "9           9      grape           Red   Small   7.409021\n"
     ]
    }
   ],
   "source": [
    "# Einlesen der Excel-Datei\n",
    "data = pd.read_excel('fruit_data.xlsx')\n",
    "\n",
    "# Ausgabe der ersten 10 Zeilen der Daten\n",
    "print(data.head(10))\n"
   ]
  },
  {
   "cell_type": "code",
   "execution_count": 3,
   "metadata": {},
   "outputs": [
    {
     "name": "stdout",
     "output_type": "stream",
     "text": [
      "Unnamed: 0      int64\n",
      "fruit_type     object\n",
      "color          object\n",
      "size           object\n",
      "weight        float64\n",
      "dtype: object\n"
     ]
    }
   ],
   "source": [
    "# Ausgabe der Datentypen der Spalten\n",
    "\n",
    "print(data.dtypes)"
   ]
  },
  {
   "cell_type": "code",
   "execution_count": 4,
   "metadata": {},
   "outputs": [
    {
     "name": "stdout",
     "output_type": "stream",
     "text": [
      "       Unnamed: 0      weight\n",
      "count  200.000000  200.000000\n",
      "mean    99.500000   59.047220\n",
      "std     57.879185   46.697739\n",
      "min      0.000000    1.000000\n",
      "25%     49.750000    8.142752\n",
      "50%     99.500000   63.109415\n",
      "75%    149.250000   94.367815\n",
      "max    199.000000  250.000000\n"
     ]
    }
   ],
   "source": [
    "# Ausgabe der Beschreibung der nummerischen Daten\n",
    "\n",
    "print(data.describe())"
   ]
  },
  {
   "cell_type": "markdown",
   "metadata": {},
   "source": [
    "### Daten bereinigung"
   ]
  },
  {
   "cell_type": "markdown",
   "metadata": {},
   "source": [
    "#### Die Spalte 'Unnamed: 0' wird entfernt, da sie lediglich die Zeilenindizes enthält und für die Analyse nicht relevant ist."
   ]
  },
  {
   "cell_type": "code",
   "execution_count": 5,
   "metadata": {},
   "outputs": [
    {
     "name": "stdout",
     "output_type": "stream",
     "text": [
      "  fruit_type         color    size     weight\n",
      "0      grape        Yellow    Tiny   8.303385\n",
      "1      apple          Pink  Largee  80.976370\n",
      "2     banana   Pale Yellow   Large  74.615192\n",
      "3      grape           Red    Tiny   6.924070\n",
      "4     banana  Creamy White  Largee  82.002542\n",
      "5     banana         Green   Large  89.719116\n",
      "6      apple         Green  Largee  72.036243\n",
      "7      grape         Green   Small   5.371310\n",
      "8      apple          Pink  Largee  87.272178\n",
      "9      grape           Red   Small   7.409021\n"
     ]
    }
   ],
   "source": [
    "# Entfernen der Spalte 'Unnamed: 0'\n",
    "data = data.drop('Unnamed: 0', axis=1)\n",
    "\n",
    "# Ausgabe der ersten 10 Zeilen der Daten, um die Entfernung der Spalte zu überprüfen\n",
    "print(data.head(10))"
   ]
  },
  {
   "cell_type": "markdown",
   "metadata": {},
   "source": [
    "#### Anschließend werden die Werte der jeweiligen Spalten ausgegeben, um nach möglichen Datenfehlern und fehlenden Werten zu suchen."
   ]
  },
  {
   "cell_type": "code",
   "execution_count": 6,
   "metadata": {},
   "outputs": [
    {
     "name": "stdout",
     "output_type": "stream",
     "text": [
      "['grape' 'apple' 'banana']\n"
     ]
    }
   ],
   "source": [
    "# Ausgabe der Werte der Spalte 'fruit_name'\n",
    "unique_type = data['fruit_type'].unique()\n",
    "\n",
    "# Ausgabe der Werte der Spalte 'fruit_name'\n",
    "print(unique_type)"
   ]
  },
  {
   "cell_type": "code",
   "execution_count": 7,
   "metadata": {},
   "outputs": [
    {
     "name": "stdout",
     "output_type": "stream",
     "text": [
      "['Yellow' 'Pink' 'Pale Yellow' 'Red' 'Creamy White' 'Green' 'Yellow1'\n",
      " 'Purple' 'Black']\n"
     ]
    }
   ],
   "source": [
    "# Ausgabe der Werte der Spalte 'color'\n",
    "unique_colors = data['color'].unique()\n",
    "\n",
    "# Ausgabe der Werte der Spalte 'color'\n",
    "print(unique_colors)"
   ]
  },
  {
   "cell_type": "markdown",
   "metadata": {},
   "source": [
    "#### Wie oben in der Ausgabe zu erkennen ist, befindet sich in der Spalte 'color' ein Datenfehler: 'Yellow1'."
   ]
  },
  {
   "cell_type": "code",
   "execution_count": 8,
   "metadata": {},
   "outputs": [
    {
     "name": "stdout",
     "output_type": "stream",
     "text": [
      "['Tiny' 'Largee' 'Large' 'Small' 'Medium']\n"
     ]
    }
   ],
   "source": [
    "# Ausgabe der Werte der Spalte 'size'\n",
    "unique_sizes = data['size'].unique()\n",
    "\n",
    "# Ausgabe der Werte der Spalte 'size'\n",
    "print(unique_sizes)\n"
   ]
  },
  {
   "cell_type": "code",
   "execution_count": 9,
   "metadata": {},
   "outputs": [
    {
     "name": "stdout",
     "output_type": "stream",
     "text": [
      "['Tiny' 'Large' 'Small' 'Medium']\n",
      "['Yellow' 'Pink' 'Pale Yellow' 'Red' 'Creamy White' 'Green' 'Purple'\n",
      " 'Black']\n"
     ]
    }
   ],
   "source": [
    "# Korrigierung des Tippfehlers in der 'size'-Spalte\n",
    "data['size'] = data['size'].replace({'Largee': 'Large'})\n",
    "\n",
    "# Korrigierung des Tippfehlers in der 'color'-Spalte\n",
    "data['color'] = data['color'].replace({'Yellow1': 'Yellow'})\n",
    "\n",
    "#  Überpürfung\n",
    "print(data['size'].unique())\n",
    "print(data['color'].unique())\n"
   ]
  },
  {
   "cell_type": "markdown",
   "metadata": {},
   "source": [
    "### Datenvisualisierung"
   ]
  },
  {
   "cell_type": "markdown",
   "metadata": {},
   "source": [
    "#### Zur Erkennung von Ausreißern wird ein Boxplot erstellt, der auf der Y-Achse die Spalte 'weight' verwendet, da sie eine numerische Variable darstellt. Die X-Achse zeigt die 'fruit_type'-Spalte, um einen direkten Vergleich zwischen den verschiedenen Fruchtsorten zu ermöglichen."
   ]
  },
  {
   "cell_type": "code",
   "execution_count": 10,
   "metadata": {},
   "outputs": [
    {
     "data": {
      "image/png": "[encoded data removed]",
      "text/plain": [
       "<Figure size 640x480 with 1 Axes>"
      ]
     },
     "metadata": {},
     "output_type": "display_data"
    }
   ],
   "source": [
    "# Erstellung eines Boxplots der Gewichte nach Fruchttyp\n",
    "plt.boxplot([data[data['fruit_type'] == 'grape']['weight'],\n",
    "             data[data['fruit_type'] == 'apple']['weight'],\n",
    "             data[data['fruit_type'] == 'banana']['weight']],\n",
    "            labels=['grape', 'apple', 'banana'])\n",
    "\n",
    "plt.xlabel('Fruit Type')\n",
    "plt.ylabel('Weight')\n",
    "plt.title('Boxplot of weight by fruit type')\n",
    "plt.show()"
   ]
  },
  {
   "cell_type": "markdown",
   "metadata": {},
   "source": [
    "#### Trauben (Grapes): Das Gewicht der Trauben ist im Vergleich zu Äpfeln und Bananen deutlich geringer, wie klar zu erkennen ist. Es gibt einige Ausreißer, die durch Punkte oberhalb der oberen Whisker des Boxplots dargestellt werden, sowie unterhalb des unteren Whiskers.\n",
    "\n",
    "#### Äpfel (Apples): Die Gewichte der Äpfel variieren um etwa 100 Einheiten. Ein deutlicher Ausreißer liegt bei etwas über 250 Einheiten. Ein weiterer Ausreißer unterhalb des Boxplots ist ebenfalls vorhanden, liegt jedoch näher an den restlichen Datenpunkten und weicht weniger stark vom Median und den anderen Werten ab.\n",
    "\n",
    "#### Bananen (Bananas): Die Gewichtsverteilung der Bananen ist breit gestreut, wobei der Median etwas niedriger liegt als bei den Äpfeln. Es gibt keine auffälligen Ausreißer."
   ]
  },
  {
   "cell_type": "code",
   "execution_count": 11,
   "metadata": {},
   "outputs": [
    {
     "name": "stdout",
     "output_type": "stream",
     "text": [
      "Ausreißer Trauben:     fruit_type   color    size     weight\n",
      "34       grape  Purple    Tiny  10.902198\n",
      "37       grape  Yellow    Tiny   1.000000\n",
      "138      grape   Green   Small  10.902198\n",
      "192      grape   Green  Medium  10.902198\n",
      "Ausreißer Äpfel:     fruit_type   color    size      weight\n",
      "26       apple   Green   Small  250.000000\n",
      "33       apple  Yellow  Medium  250.000000\n",
      "175      apple   Green  Medium    8.300753\n",
      "Ausreißer Bananen: Empty DataFrame\n",
      "Columns: [fruit_type, color, size, weight]\n",
      "Index: []\n"
     ]
    }
   ],
   "source": [
    "# Ausreißer für jede Fruchtart identifizieren\n",
    "def identify_outliers(df, column, threshold=1.5):\n",
    "    Q1 = df[column].quantile(0.25)\n",
    "    Q3 = df[column].quantile(0.75)\n",
    "    IQR = Q3 - Q1\n",
    "    lower_bound = Q1 - threshold * IQR\n",
    "    upper_bound = Q3 + threshold * IQR\n",
    "    return df[(df[column] < lower_bound) | (df[column] > upper_bound)]\n",
    "\n",
    "# Definieren der Ausreißer für jede Fruchtart\n",
    "outliers_grape = identify_outliers(data[data['fruit_type'] == 'grape'], 'weight')\n",
    "outliers_apple = identify_outliers(data[data['fruit_type'] == 'apple'], 'weight')\n",
    "outliers_banana = identify_outliers(data[data['fruit_type'] == 'banana'], 'weight')\n",
    "\n",
    "# Ausgabe der Anzahl der Ausreißer für jede Fruchtart\n",
    "print('Ausreißer Trauben:', outliers_grape)\n",
    "print('Ausreißer Äpfel:', outliers_apple)\n",
    "print('Ausreißer Bananen:', outliers_banana)\n"
   ]
  },
  {
   "cell_type": "code",
   "execution_count": 12,
   "metadata": {},
   "outputs": [
    {
     "name": "stdout",
     "output_type": "stream",
     "text": [
      "(193, 4)\n"
     ]
    }
   ],
   "source": [
    "# Entfernen der Ausreißer\n",
    "data = data.drop(outliers_grape.index)\n",
    "data = data.drop(outliers_apple.index)\n",
    "\n",
    "# Überprüfung der Anzahl der Datensätze nach Entfernung der Ausreißer\n",
    "print(data.shape)"
   ]
  },
  {
   "cell_type": "markdown",
   "metadata": {},
   "source": [
    "### Modellierung und Analyse"
   ]
  },
  {
   "cell_type": "markdown",
   "metadata": {},
   "source": [
    "#### Logistische Regression"
   ]
  },
  {
   "cell_type": "markdown",
   "metadata": {},
   "source": [
    "#### Bevor die logistische Regression entwickelt wird, müssen die kategorialen Variablen in numerische Variablen umgewandelt werden. Dies geschieht durch One-Hot-Encoding, bei dem beispielsweise die Kategorie 'Yellow' in eine binäre Variable '1' umgewandelt wird. Da das Modell nur numerische Werte verarbeiten kann, ist dieser Schritt notwendig. Anschließend wird die Zielvariable definiert, auf die unsere Merkmale prognostizieren sollen. Der Datensatz wird dann in Trainings- und Testdatensätze aufgeteilt: Der Trainingsdatensatz dient zur Modellentwicklung, während der Testdatensatz zur Evaluierung der Modellleistung verwendet wird. Die Standardisierung ist erforderlich, um sicherzustellen, dass alle numerischen Variablen denselben Maßstab haben und das Modell nicht durch unterschiedlich skalierte Merkmale verzerrt wird. Schließlich wird die logistische Regression erstellt."
   ]
  },
  {
   "cell_type": "code",
   "execution_count": 13,
   "metadata": {},
   "outputs": [
    {
     "name": "stdout",
     "output_type": "stream",
     "text": [
      "Accuracy:  0.3333333333333333\n",
      "F1-Score:  0.16666666666666666\n",
      "ROC-AUC:  0.9546351084812624\n"
     ]
    },
    {
     "name": "stderr",
     "output_type": "stream",
     "text": [
      "/Users/tunahansari/.pyenv/versions/3.9.18/lib/python3.9/site-packages/sklearn/base.py:486: UserWarning: X has feature names, but LogisticRegression was fitted without feature names\n",
      "  warnings.warn(\n"
     ]
    }
   ],
   "source": [
    "# One-Hot-Encoding, um kategorische Variablen in numerische umzuwandeln\n",
    "data_encoded = pd.get_dummies(data, columns=['color', 'size'], drop_first=True)\n",
    "\n",
    "# Merkmale (X) und Zielvariable (y) definieren\n",
    "X = data_encoded.drop(columns=['fruit_type'])\n",
    "y = data_encoded['fruit_type']\n",
    "\n",
    "# Training und Testdatensatz aufteilen\n",
    "X_train, X_test, y_train, y_test = train_test_split(X, y, test_size=0.2, random_state=42)\n",
    "\n",
    "# Standardisierung der Merkmale\n",
    "scaler = StandardScaler()\n",
    "X_train_scaled = scaler.fit_transform(X_train)\n",
    "X_test_scaled = scaler.transform(X_test)\n",
    "\n",
    "# Modell erstellen und trainieren\n",
    "model = LogisticRegression(multi_class='ovr', solver='liblinear')\n",
    "model.fit(X_train_scaled, y_train)\n",
    "\n",
    "# Vorhersagen auf Testdatensatz\n",
    "y_pred = model.predict(X_test)\n",
    "\n",
    "# Binarisieren der Zielvariablen für ROC-AUC\n",
    "y_test_bin = label_binarize(y_test, classes=model.classes_)\n",
    "y_pred_proba = model.predict_proba(X_test_scaled)\n",
    "\n",
    "# Modellbewertung\n",
    "accuracy = accuracy_score(y_test, y_pred)\n",
    "f1 = f1_score(y_test, y_pred, average='weighted')\n",
    "roc_auc = roc_auc_score(y_test_bin, y_pred_proba, average='weighted', multi_class='ovr')\n",
    "\n",
    "# Ausgabe der Modellbewertung\n",
    "print('Accuracy: ', accuracy)\n",
    "print('F1-Score: ', f1)\n",
    "print('ROC-AUC: ', roc_auc)\n",
    "\n"
   ]
  },
  {
   "cell_type": "markdown",
   "metadata": {},
   "source": [
    "#### Interpretation:\n",
    "\n",
    "#### Accuracy: Das Modell klassifiziert etwa 33% der Testdaten korrekt. Dies ist ein relativ niedriger Wert.\n",
    "\n",
    "#### F1-Score: Der F1-Score ist noch niedriger als die Accuracy und deutet darauf hin, dass das Modell erhebliche Schwierigkeiten hat und stark unterperformt.\n",
    "\n",
    "#### ROC-AUC: Der ROC-AUC Wert ist überraschend hoch, was darauf hindeutet, dass das Modell eine gute Fähigkeit zur Unterscheidung zwischen den Klassen besitzt, wenn es um die Wahrscheinlichkeiten geht.\n",
    "\n",
    "#### Es könnte auf ein schlecht balanciertes Modell hinweisen, das schlecht kalibriert ist -> Lösung: Verwendung von Hyperparameter, um die Balance zwischen den Klassen zu verbessern und die Modellleistung insgesamt zu steigern."
   ]
  },
  {
   "cell_type": "markdown",
   "metadata": {},
   "source": [
    "### Hyperparameter für die logistische Regression"
   ]
  },
  {
   "cell_type": "markdown",
   "metadata": {},
   "source": [
    "#### Hyperparameter werden zur Optimierung der logistischen Regression verwendet. In diesem Fall nutzen wir GridSearchCV, um die besten Hyperparameter für die logistische Regression zu ermitteln. Verschiedene Solver ('lbfgs', 'newton-cg', 'sag', 'saga') werden ausgewählt, da sie besonders gut für Multiklassen-Probleme geeignet sind. Der Regularisierungsparameter 'C' steuert die Modellkomplexität, wobei kleinere Werte eine stärkere Regularisierung bewirken. Der Parameter 'multi_class' legt fest, wie das Modell Multiklassen-Probleme behandelt. Durch diese Hyperparameter wird sichergestellt, dass das Modell mit den optimalen Einstellungen die beste Leistung in Bezug auf Accuracy, F1-Score und ROC-AUC."
   ]
  },
  {
   "cell_type": "code",
   "execution_count": 14,
   "metadata": {},
   "outputs": [
    {
     "name": "stdout",
     "output_type": "stream",
     "text": [
      "Beste Hyperparameter für die logistische Regression: {'C': 10, 'multi_class': 'multinomial', 'solver': 'lbfgs'}\n",
      "Accuracy:  0.8205128205128205\n",
      "F1-Score:  0.8085924195981122\n",
      "ROC-AUC:  0.9591434206818823\n"
     ]
    }
   ],
   "source": [
    "# Hyperparameter-Raster für logistische Regression\n",
    "param_grid_lr = {\n",
    "    'solver': ['lbfgs', 'newton-cg', 'sag', 'saga'],\n",
    "    'C': [0.01, 0.1, 1, 10],\n",
    "    'multi_class': ['ovr', 'multinomial']\n",
    "}\n",
    "\n",
    "# Grid-Suche für logistische Regression\n",
    "grid_search_lr = GridSearchCV(LogisticRegression(random_state=42, max_iter=1000), param_grid_lr, cv=5, scoring='accuracy')\n",
    "grid_search_lr.fit(X_train_scaled, y_train)\n",
    "\n",
    "# Bestes Modell und Hyperparameter\n",
    "best_lr_model = grid_search_lr.best_estimator_\n",
    "print(f'Beste Hyperparameter für die logistische Regression: {grid_search_lr.best_params_}')\n",
    "\n",
    "# Modellbewertung\n",
    "y_pred_lr = best_lr_model.predict(X_test_scaled)\n",
    "accuracy_lr = accuracy_score(y_test, y_pred_lr)\n",
    "f1_lr = f1_score(y_test, y_pred_lr, average='weighted')\n",
    "roc_auc_lr = roc_auc_score(label_binarize(y_test, classes=best_lr_model.classes_), best_lr_model.predict_proba(X_test_scaled), average='weighted', multi_class='ovr')\n",
    "\n",
    "print('Accuracy: ', accuracy_lr)\n",
    "print('F1-Score: ', f1_lr)\n",
    "print('ROC-AUC: ', roc_auc_lr)\n",
    "\n"
   ]
  },
  {
   "cell_type": "markdown",
   "metadata": {},
   "source": [
    "#### Interpretation:\n",
    "\n",
    "#### Accuracy: Das Modell klassifiziert etwa 82% der Testdaten korrekt, was auf eine solide Leistung hinweist.\n",
    "\n",
    "#### F1-Score: Der F1-Score liegt bei etwa 80.86%, was auf ein gutes Gleichgewicht zwischen Präzision und Recall hindeutet.\n",
    "\n",
    "#### ROC-AUC: Der ROC-AUC-Wert von 95.91% zeigt eine ausgezeichnete Fähigkeit des Modells zur Unterscheidung zwischen den Klassen.\n",
    "\n",
    "#### Insgesamt ist das Modell gut optimiert und liefert starke Ergebnisse, sodass keine wesentlichen Anpassungen mehr erforderlich sind."
   ]
  },
  {
   "cell_type": "markdown",
   "metadata": {},
   "source": [
    "### Entscheidungsbaum\n"
   ]
  },
  {
   "cell_type": "markdown",
   "metadata": {},
   "source": [
    "#### Auch hier werden die Daten vorbereitet. Die Standardisierung der Merkmale ist für Entscheidungsbäume zwar optional, wird jedoch durchgeführt, um sicherzustellen, dass alle numerischen Variablen denselben Maßstab haben. Anschließend wird der Entscheidungsbaum erstellt und trainiert."
   ]
  },
  {
   "cell_type": "code",
   "execution_count": 15,
   "metadata": {},
   "outputs": [
    {
     "name": "stdout",
     "output_type": "stream",
     "text": [
      "Accuracy:  0.8717948717948718\n",
      "F1-Score:  0.8683047140397412\n",
      "ROC-AUC:  0.9052197802197802\n"
     ]
    }
   ],
   "source": [
    "# One-Hot-Encoding für kategorische Variablen\n",
    "data_encoded = pd.get_dummies(data, columns=['color', 'size'], drop_first=True)\n",
    "\n",
    "# Merkmale (X) und Zielvariable (y) definieren\n",
    "X = data_encoded.drop(columns=['fruit_type'])\n",
    "y = data_encoded['fruit_type']\n",
    "\n",
    "# Training und Testdatensatz aufteilen\n",
    "X_train, X_test, y_train, y_test = train_test_split(X, y, test_size=0.2, random_state=42)\n",
    "\n",
    "# Standardisierung der Merkmale (optional für Entscheidungsbaum)\n",
    "scaler = StandardScaler()\n",
    "X_train_scaled = scaler.fit_transform(X_train)\n",
    "X_test_scaled = scaler.transform(X_test)\n",
    "\n",
    "# Entscheidungsbaum erstellen und trainieren\n",
    "tree_model = DecisionTreeClassifier(random_state=42)\n",
    "tree_model.fit(X_train_scaled, y_train)\n",
    "\n",
    "# Vorhersagen auf Testdatensatz\n",
    "y_pred = tree_model.predict(X_test_scaled)\n",
    "\n",
    "# Binarisieren der Zielvariablen für ROC-AUC\n",
    "y_test_bin = label_binarize(y_test, classes=tree_model.classes_)\n",
    "y_pred_proba = tree_model.predict_proba(X_test_scaled)\n",
    "\n",
    "# Modellbewertung\n",
    "accuracy = accuracy_score(y_test, y_pred)\n",
    "f1 = f1_score(y_test, y_pred, average='weighted')\n",
    "roc_auc = roc_auc_score(y_test_bin, y_pred_proba, average='weighted', multi_class='ovr')\n",
    "\n",
    "# Ausgabe der Modellbewertung\n",
    "print('Accuracy: ', accuracy)\n",
    "print('F1-Score: ', f1)\n",
    "print('ROC-AUC: ', roc_auc)\n"
   ]
  },
  {
   "cell_type": "markdown",
   "metadata": {},
   "source": [
    "#### Interpretation:\n",
    "\n",
    "#### Accuracy: Das Modell klassifiziert etwa 87% der Testdaten korrekt, was auf eine sehr gute Leistung hinweist.\n",
    "\n",
    "#### F1-Score: Der F1-Score liegt bei etwa 86.84% und zeigt, dass das Modell ein gutes Gleichgewicht zwischen Präzision und Recall erreicht hat.\n",
    "\n",
    "#### ROC-AUC: Der ROC-AUC-Wert von 90.52% deutet darauf hin, dass der Entscheidungsbaum eine ausgezeichnete Fähigkeit zur Unterscheidung zwischen den Klassen besitzt.\n",
    "\n",
    "#### Insgesamt zeigt der Entscheidungsbaum eine starke Leistung und ist gut geeignet für die Klassifikation der Fruchtsorten."
   ]
  },
  {
   "cell_type": "markdown",
   "metadata": {},
   "source": [
    "### Hyperparameter für den Entscheidungsbaum"
   ]
  },
  {
   "cell_type": "code",
   "execution_count": 16,
   "metadata": {},
   "outputs": [
    {
     "name": "stdout",
     "output_type": "stream",
     "text": [
      "Beste Hyperparameter für Entscheidungsbaum: {'max_depth': 10, 'max_features': None, 'min_samples_leaf': 1}\n",
      "Accuracy:  0.8717948717948718\n",
      "F1-Score:  0.8683047140397412\n",
      "ROC-AUC:  0.9158918005071851\n"
     ]
    }
   ],
   "source": [
    "# Hyperparameter-Raster für Entscheidungsbaum\n",
    "param_grid_tree = {\n",
    "    'max_depth': [3, 5, 7, 10],\n",
    "    'min_samples_leaf': [1, 2, 4, 6],\n",
    "    'max_features': [None, 'sqrt', 'log2']\n",
    "}\n",
    "\n",
    "# Grid-Suche für Entscheidungsbaum\n",
    "grid_search_tree = GridSearchCV(DecisionTreeClassifier(random_state=42), param_grid_tree, cv=5, scoring='accuracy')\n",
    "grid_search_tree.fit(X_train_scaled, y_train)\n",
    "\n",
    "# Bestes Modell und Hyperparameter\n",
    "best_tree_model = grid_search_tree.best_estimator_\n",
    "print(f'Beste Hyperparameter für Entscheidungsbaum: {grid_search_tree.best_params_}')\n",
    "\n",
    "# Modellbewertung\n",
    "y_pred_tree = best_tree_model.predict(X_test_scaled)\n",
    "accuracy_tree = accuracy_score(y_test, y_pred_tree)\n",
    "f1_tree = f1_score(y_test, y_pred_tree, average='weighted')\n",
    "roc_auc_tree = roc_auc_score(label_binarize(y_test, classes=best_tree_model.classes_), best_tree_model.predict_proba(X_test_scaled), average='weighted', multi_class='ovr')\n",
    "\n",
    "# Ausgabe der Modellbewertung\n",
    "print('Accuracy: ', accuracy_tree)\n",
    "print('F1-Score: ', f1_tree)\n",
    "print('ROC-AUC: ', roc_auc_tree)\n"
   ]
  },
  {
   "cell_type": "markdown",
   "metadata": {},
   "source": [
    "#### Interpretation:\n",
    "\n",
    "#### Accuracy: Das Modell klassifiziert etwa 87.18% der Testdaten korrekt, was auf eine sehr gute Leistung hinweist.\n",
    "\n",
    "#### F1-Score: Der F1-Score liegt bei etwa 86.38%, was auf ein ausgewogenes Verhältnis zwischen Präzision und Recall hindeutet.\n",
    "\n",
    "#### ROC-AUC: Der ROC-AUC-Wert von 91.59% zeigt, dass der Entscheidungsbaum eine ausgezeichnete Fähigkeit zur Unterscheidung zwischen den Klassen besitzt.\n",
    "\n",
    "#### Insgesamt zeigt der optimierte Entscheidungsbaum eine starke und konsistente Leistung, die durch die gezielte Anpassung der Hyperparameter noch weiter verbessert wurde."
   ]
  }
 ],
 "metadata": {
  "kernelspec": {
   "display_name": "Python 3",
   "language": "python",
   "name": "python3"
  },
  "language_info": {
   "codemirror_mode": {
    "name": "ipython",
    "version": 3
   },
   "file_extension": ".py",
   "mimetype": "text/x-python",
   "name": "python",
   "nbconvert_exporter": "python",
   "pygments_lexer": "ipython3",
   "version": "3.9.18"
  }
 },
 "nbformat": 4,
 "nbformat_minor": 2
}
